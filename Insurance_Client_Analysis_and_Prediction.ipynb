{
 "cells": [
  {
   "cell_type": "code",
   "execution_count": 147,
   "metadata": {},
   "outputs": [],
   "source": [
    "# Importacion de librerias \n",
    "import numpy as np \n",
    "import pandas as pd \n",
    "\n",
    "import seaborn as sns \n",
    "\n",
    "import sklearn.linear_model\n",
    "import sklearn.metrics\n",
    "import sklearn.neighbors\n",
    "import sklearn.preprocessing\n",
    "\n",
    "from sklearn.model_selection import train_test_split"
   ]
  },
  {
   "cell_type": "code",
   "execution_count": 148,
   "metadata": {},
   "outputs": [],
   "source": [
    "# Carga de datos\n",
    "df = pd.read_csv('insurance_us.csv')"
   ]
  },
  {
   "cell_type": "code",
   "execution_count": 149,
   "metadata": {},
   "outputs": [
    {
     "name": "stdout",
     "output_type": "stream",
     "text": [
      "<class 'pandas.core.frame.DataFrame'>\n",
      "RangeIndex: 5000 entries, 0 to 4999\n",
      "Data columns (total 5 columns):\n",
      " #   Column              Non-Null Count  Dtype  \n",
      "---  ------              --------------  -----  \n",
      " 0   Gender              5000 non-null   int64  \n",
      " 1   Age                 5000 non-null   float64\n",
      " 2   Salary              5000 non-null   float64\n",
      " 3   Family members      5000 non-null   int64  \n",
      " 4   Insurance benefits  5000 non-null   int64  \n",
      "dtypes: float64(2), int64(3)\n",
      "memory usage: 195.4 KB\n"
     ]
    }
   ],
   "source": [
    "df.info()"
   ]
  },
  {
   "cell_type": "code",
   "execution_count": 150,
   "metadata": {},
   "outputs": [],
   "source": [
    "df.columns = [i.lower().replace(\" \",\"_\") for i in df.columns]"
   ]
  },
  {
   "cell_type": "code",
   "execution_count": 151,
   "metadata": {},
   "outputs": [
    {
     "name": "stdout",
     "output_type": "stream",
     "text": [
      "<class 'pandas.core.frame.DataFrame'>\n",
      "RangeIndex: 5000 entries, 0 to 4999\n",
      "Data columns (total 5 columns):\n",
      " #   Column              Non-Null Count  Dtype  \n",
      "---  ------              --------------  -----  \n",
      " 0   gender              5000 non-null   int64  \n",
      " 1   age                 5000 non-null   float64\n",
      " 2   salary              5000 non-null   float64\n",
      " 3   family_members      5000 non-null   int64  \n",
      " 4   insurance_benefits  5000 non-null   int64  \n",
      "dtypes: float64(2), int64(3)\n",
      "memory usage: 195.4 KB\n"
     ]
    }
   ],
   "source": [
    "df.info()"
   ]
  },
  {
   "cell_type": "code",
   "execution_count": 152,
   "metadata": {},
   "outputs": [
    {
     "data": {
      "text/html": [
       "<div>\n",
       "<style scoped>\n",
       "    .dataframe tbody tr th:only-of-type {\n",
       "        vertical-align: middle;\n",
       "    }\n",
       "\n",
       "    .dataframe tbody tr th {\n",
       "        vertical-align: top;\n",
       "    }\n",
       "\n",
       "    .dataframe thead th {\n",
       "        text-align: right;\n",
       "    }\n",
       "</style>\n",
       "<table border=\"1\" class=\"dataframe\">\n",
       "  <thead>\n",
       "    <tr style=\"text-align: right;\">\n",
       "      <th></th>\n",
       "      <th>gender</th>\n",
       "      <th>age</th>\n",
       "      <th>salary</th>\n",
       "      <th>family_members</th>\n",
       "      <th>insurance_benefits</th>\n",
       "    </tr>\n",
       "  </thead>\n",
       "  <tbody>\n",
       "    <tr>\n",
       "      <th>1213</th>\n",
       "      <td>0</td>\n",
       "      <td>20.0</td>\n",
       "      <td>45200.0</td>\n",
       "      <td>4</td>\n",
       "      <td>0</td>\n",
       "    </tr>\n",
       "    <tr>\n",
       "      <th>530</th>\n",
       "      <td>1</td>\n",
       "      <td>36.0</td>\n",
       "      <td>21200.0</td>\n",
       "      <td>1</td>\n",
       "      <td>0</td>\n",
       "    </tr>\n",
       "    <tr>\n",
       "      <th>2537</th>\n",
       "      <td>0</td>\n",
       "      <td>33.0</td>\n",
       "      <td>66100.0</td>\n",
       "      <td>1</td>\n",
       "      <td>0</td>\n",
       "    </tr>\n",
       "    <tr>\n",
       "      <th>4226</th>\n",
       "      <td>1</td>\n",
       "      <td>23.0</td>\n",
       "      <td>37700.0</td>\n",
       "      <td>2</td>\n",
       "      <td>0</td>\n",
       "    </tr>\n",
       "    <tr>\n",
       "      <th>621</th>\n",
       "      <td>0</td>\n",
       "      <td>31.0</td>\n",
       "      <td>43100.0</td>\n",
       "      <td>0</td>\n",
       "      <td>0</td>\n",
       "    </tr>\n",
       "    <tr>\n",
       "      <th>3378</th>\n",
       "      <td>0</td>\n",
       "      <td>27.0</td>\n",
       "      <td>36400.0</td>\n",
       "      <td>1</td>\n",
       "      <td>0</td>\n",
       "    </tr>\n",
       "    <tr>\n",
       "      <th>993</th>\n",
       "      <td>1</td>\n",
       "      <td>19.0</td>\n",
       "      <td>31900.0</td>\n",
       "      <td>1</td>\n",
       "      <td>0</td>\n",
       "    </tr>\n",
       "    <tr>\n",
       "      <th>368</th>\n",
       "      <td>0</td>\n",
       "      <td>40.0</td>\n",
       "      <td>29700.0</td>\n",
       "      <td>0</td>\n",
       "      <td>0</td>\n",
       "    </tr>\n",
       "    <tr>\n",
       "      <th>148</th>\n",
       "      <td>0</td>\n",
       "      <td>28.0</td>\n",
       "      <td>39000.0</td>\n",
       "      <td>1</td>\n",
       "      <td>0</td>\n",
       "    </tr>\n",
       "    <tr>\n",
       "      <th>105</th>\n",
       "      <td>1</td>\n",
       "      <td>35.0</td>\n",
       "      <td>44300.0</td>\n",
       "      <td>0</td>\n",
       "      <td>0</td>\n",
       "    </tr>\n",
       "  </tbody>\n",
       "</table>\n",
       "</div>"
      ],
      "text/plain": [
       "      gender   age   salary  family_members  insurance_benefits\n",
       "1213       0  20.0  45200.0               4                   0\n",
       "530        1  36.0  21200.0               1                   0\n",
       "2537       0  33.0  66100.0               1                   0\n",
       "4226       1  23.0  37700.0               2                   0\n",
       "621        0  31.0  43100.0               0                   0\n",
       "3378       0  27.0  36400.0               1                   0\n",
       "993        1  19.0  31900.0               1                   0\n",
       "368        0  40.0  29700.0               0                   0\n",
       "148        0  28.0  39000.0               1                   0\n",
       "105        1  35.0  44300.0               0                   0"
      ]
     },
     "execution_count": 152,
     "metadata": {},
     "output_type": "execute_result"
    }
   ],
   "source": [
    "df.sample(10)"
   ]
  },
  {
   "cell_type": "code",
   "execution_count": 153,
   "metadata": {},
   "outputs": [
    {
     "name": "stdout",
     "output_type": "stream",
     "text": [
      "<class 'pandas.core.frame.DataFrame'>\n",
      "RangeIndex: 5000 entries, 0 to 4999\n",
      "Data columns (total 5 columns):\n",
      " #   Column              Non-Null Count  Dtype\n",
      "---  ------              --------------  -----\n",
      " 0   gender              5000 non-null   int64\n",
      " 1   age                 5000 non-null   int64\n",
      " 2   salary              5000 non-null   int64\n",
      " 3   family_members      5000 non-null   int64\n",
      " 4   insurance_benefits  5000 non-null   int64\n",
      "dtypes: int64(5)\n",
      "memory usage: 195.4 KB\n"
     ]
    }
   ],
   "source": [
    "df = df.astype({'age':'int64', 'salary':'int64'})\n",
    "df.info()"
   ]
  },
  {
   "cell_type": "code",
   "execution_count": 154,
   "metadata": {},
   "outputs": [
    {
     "data": {
      "text/html": [
       "<div>\n",
       "<style scoped>\n",
       "    .dataframe tbody tr th:only-of-type {\n",
       "        vertical-align: middle;\n",
       "    }\n",
       "\n",
       "    .dataframe tbody tr th {\n",
       "        vertical-align: top;\n",
       "    }\n",
       "\n",
       "    .dataframe thead th {\n",
       "        text-align: right;\n",
       "    }\n",
       "</style>\n",
       "<table border=\"1\" class=\"dataframe\">\n",
       "  <thead>\n",
       "    <tr style=\"text-align: right;\">\n",
       "      <th></th>\n",
       "      <th>gender</th>\n",
       "      <th>age</th>\n",
       "      <th>salary</th>\n",
       "      <th>family_members</th>\n",
       "      <th>insurance_benefits</th>\n",
       "    </tr>\n",
       "  </thead>\n",
       "  <tbody>\n",
       "    <tr>\n",
       "      <th>count</th>\n",
       "      <td>5000.000000</td>\n",
       "      <td>5000.000000</td>\n",
       "      <td>5000.000000</td>\n",
       "      <td>5000.000000</td>\n",
       "      <td>5000.000000</td>\n",
       "    </tr>\n",
       "    <tr>\n",
       "      <th>mean</th>\n",
       "      <td>0.499000</td>\n",
       "      <td>30.952800</td>\n",
       "      <td>39916.359400</td>\n",
       "      <td>1.194200</td>\n",
       "      <td>0.148000</td>\n",
       "    </tr>\n",
       "    <tr>\n",
       "      <th>std</th>\n",
       "      <td>0.500049</td>\n",
       "      <td>8.440807</td>\n",
       "      <td>9900.082063</td>\n",
       "      <td>1.091387</td>\n",
       "      <td>0.463183</td>\n",
       "    </tr>\n",
       "    <tr>\n",
       "      <th>min</th>\n",
       "      <td>0.000000</td>\n",
       "      <td>18.000000</td>\n",
       "      <td>5300.000000</td>\n",
       "      <td>0.000000</td>\n",
       "      <td>0.000000</td>\n",
       "    </tr>\n",
       "    <tr>\n",
       "      <th>25%</th>\n",
       "      <td>0.000000</td>\n",
       "      <td>24.000000</td>\n",
       "      <td>33300.000000</td>\n",
       "      <td>0.000000</td>\n",
       "      <td>0.000000</td>\n",
       "    </tr>\n",
       "    <tr>\n",
       "      <th>50%</th>\n",
       "      <td>0.000000</td>\n",
       "      <td>30.000000</td>\n",
       "      <td>40200.000000</td>\n",
       "      <td>1.000000</td>\n",
       "      <td>0.000000</td>\n",
       "    </tr>\n",
       "    <tr>\n",
       "      <th>75%</th>\n",
       "      <td>1.000000</td>\n",
       "      <td>37.000000</td>\n",
       "      <td>46600.000000</td>\n",
       "      <td>2.000000</td>\n",
       "      <td>0.000000</td>\n",
       "    </tr>\n",
       "    <tr>\n",
       "      <th>max</th>\n",
       "      <td>1.000000</td>\n",
       "      <td>65.000000</td>\n",
       "      <td>79000.000000</td>\n",
       "      <td>6.000000</td>\n",
       "      <td>5.000000</td>\n",
       "    </tr>\n",
       "  </tbody>\n",
       "</table>\n",
       "</div>"
      ],
      "text/plain": [
       "            gender          age        salary  family_members  \\\n",
       "count  5000.000000  5000.000000   5000.000000     5000.000000   \n",
       "mean      0.499000    30.952800  39916.359400        1.194200   \n",
       "std       0.500049     8.440807   9900.082063        1.091387   \n",
       "min       0.000000    18.000000   5300.000000        0.000000   \n",
       "25%       0.000000    24.000000  33300.000000        0.000000   \n",
       "50%       0.000000    30.000000  40200.000000        1.000000   \n",
       "75%       1.000000    37.000000  46600.000000        2.000000   \n",
       "max       1.000000    65.000000  79000.000000        6.000000   \n",
       "\n",
       "       insurance_benefits  \n",
       "count         5000.000000  \n",
       "mean             0.148000  \n",
       "std              0.463183  \n",
       "min              0.000000  \n",
       "25%              0.000000  \n",
       "50%              0.000000  \n",
       "75%              0.000000  \n",
       "max              5.000000  "
      ]
     },
     "execution_count": 154,
     "metadata": {},
     "output_type": "execute_result"
    }
   ],
   "source": [
    "df.describe()"
   ]
  },
  {
   "cell_type": "markdown",
   "metadata": {},
   "source": [
    "Puede ser que los datos necesiten ser normalizados para utilizarlos en un modelo predictivo. Asimismo revisar valores atipicos en columnas como salary e insurance."
   ]
  },
  {
   "cell_type": "markdown",
   "metadata": {},
   "source": [
    "# Análisis Exploratorio "
   ]
  },
  {
   "cell_type": "code",
   "execution_count": 155,
   "metadata": {},
   "outputs": [
    {
     "data": {
      "image/png": "[encoded data removed]",
      "text/plain": [
       "<Figure size 1200x1200 with 30 Axes>"
      ]
     },
     "metadata": {},
     "output_type": "display_data"
    }
   ],
   "source": [
    "g = sns.pairplot(df, kind='hist')\n",
    "g.fig.set_size_inches(12,12)"
   ]
  },
  {
   "cell_type": "markdown",
   "metadata": {},
   "source": [
    "## 1. Clientes Similares"
   ]
  },
  {
   "cell_type": "code",
   "execution_count": 156,
   "metadata": {},
   "outputs": [],
   "source": [
    "feature_names = df.columns.tolist()\n",
    "feature_names.remove('insurance_benefits')"
   ]
  },
  {
   "cell_type": "code",
   "execution_count": 157,
   "metadata": {},
   "outputs": [],
   "source": [
    "def get_knn(df, n, k, metric):\n",
    "    \"\"\"\n",
    "    Devuelve los k vecinos mas cercanos \n",
    "\n",
    "    :param df: DataFrame de pandas utilizado para encontrar objetos similares dentor del mismo lugar\n",
    "    :param n: nuemro de objetos para los que se buscan los vecinos mas cercanos\n",
    "    :param k: numero de vecinos mas cercanos a devolver \n",
    "    :param metric: nombre de la metrica de distancia\n",
    "    \"\"\"\n",
    "\n",
    "    nbrs = sklearn.neighbors.NearestNeighbors(n_neighbors=k, metric=metric).fit(df[feature_names].values)\n",
    "\n",
    "\n",
    "    nbrs_distances, nbrs_indices = nbrs.kneighbors([df.iloc[n][feature_names]], k, return_distance = True)\n",
    "\n",
    "    df_res = pd.concat([\n",
    "        df.iloc[nbrs_indices[0]],\n",
    "        pd.DataFrame(nbrs_distances.T, \n",
    "        index = nbrs_indices[0], \n",
    "        columns=['distance'])],\n",
    "        axis =1)\n",
    "\n",
    "    return df_res"
   ]
  },
  {
   "cell_type": "markdown",
   "metadata": {},
   "source": [
    "**Escalado de datos**"
   ]
  },
  {
   "cell_type": "code",
   "execution_count": 158,
   "metadata": {},
   "outputs": [],
   "source": [
    "# Escalamiento de datos \n",
    "transformer_mas = sklearn.preprocessing.MaxAbsScaler().fit(df[feature_names].to_numpy())\n",
    "\n",
    "df_scaled = df.copy().astype('float64')\n",
    "df_scaled.loc[:,feature_names] = transformer_mas.transform(df[feature_names].to_numpy())"
   ]
  },
  {
   "cell_type": "code",
   "execution_count": 159,
   "metadata": {},
   "outputs": [
    {
     "data": {
      "text/html": [
       "<div>\n",
       "<style scoped>\n",
       "    .dataframe tbody tr th:only-of-type {\n",
       "        vertical-align: middle;\n",
       "    }\n",
       "\n",
       "    .dataframe tbody tr th {\n",
       "        vertical-align: top;\n",
       "    }\n",
       "\n",
       "    .dataframe thead th {\n",
       "        text-align: right;\n",
       "    }\n",
       "</style>\n",
       "<table border=\"1\" class=\"dataframe\">\n",
       "  <thead>\n",
       "    <tr style=\"text-align: right;\">\n",
       "      <th></th>\n",
       "      <th>gender</th>\n",
       "      <th>age</th>\n",
       "      <th>salary</th>\n",
       "      <th>family_members</th>\n",
       "      <th>insurance_benefits</th>\n",
       "    </tr>\n",
       "  </thead>\n",
       "  <tbody>\n",
       "    <tr>\n",
       "      <th>2540</th>\n",
       "      <td>1.0</td>\n",
       "      <td>0.446154</td>\n",
       "      <td>0.682278</td>\n",
       "      <td>0.166667</td>\n",
       "      <td>0.0</td>\n",
       "    </tr>\n",
       "    <tr>\n",
       "      <th>4172</th>\n",
       "      <td>1.0</td>\n",
       "      <td>0.492308</td>\n",
       "      <td>0.673418</td>\n",
       "      <td>0.000000</td>\n",
       "      <td>0.0</td>\n",
       "    </tr>\n",
       "    <tr>\n",
       "      <th>3137</th>\n",
       "      <td>1.0</td>\n",
       "      <td>0.415385</td>\n",
       "      <td>0.359494</td>\n",
       "      <td>0.000000</td>\n",
       "      <td>0.0</td>\n",
       "    </tr>\n",
       "    <tr>\n",
       "      <th>2670</th>\n",
       "      <td>0.0</td>\n",
       "      <td>0.400000</td>\n",
       "      <td>0.526582</td>\n",
       "      <td>0.500000</td>\n",
       "      <td>0.0</td>\n",
       "    </tr>\n",
       "    <tr>\n",
       "      <th>898</th>\n",
       "      <td>1.0</td>\n",
       "      <td>0.492308</td>\n",
       "      <td>0.640506</td>\n",
       "      <td>0.333333</td>\n",
       "      <td>0.0</td>\n",
       "    </tr>\n",
       "  </tbody>\n",
       "</table>\n",
       "</div>"
      ],
      "text/plain": [
       "      gender       age    salary  family_members  insurance_benefits\n",
       "2540     1.0  0.446154  0.682278        0.166667                 0.0\n",
       "4172     1.0  0.492308  0.673418        0.000000                 0.0\n",
       "3137     1.0  0.415385  0.359494        0.000000                 0.0\n",
       "2670     0.0  0.400000  0.526582        0.500000                 0.0\n",
       "898      1.0  0.492308  0.640506        0.333333                 0.0"
      ]
     },
     "execution_count": 159,
     "metadata": {},
     "output_type": "execute_result"
    }
   ],
   "source": [
    "df_scaled.sample(5)"
   ]
  },
  {
   "cell_type": "markdown",
   "metadata": {},
   "source": [
    "**Pruebas para diferentes Metricas y Escalados**"
   ]
  },
  {
   "cell_type": "code",
   "execution_count": 160,
   "metadata": {},
   "outputs": [
    {
     "name": "stdout",
     "output_type": "stream",
     "text": [
      "Sin escalamiento\n",
      " ======================================================================\n",
      "Euclidean\n",
      "\n",
      "      gender  age  salary  family_members  insurance_benefits  distance\n",
      "0          1   41   49600               1                   0  0.000000\n",
      "2022       1   41   49600               0                   0  1.000000\n",
      "1225       0   42   49600               0                   1  1.732051\n",
      "4031       1   44   49600               2                   1  3.162278\n",
      "3424       0   38   49600               0                   0  3.316625 \n",
      "\n",
      "Manhattan\n",
      "\n",
      "      gender  age  salary  family_members  insurance_benefits  distance\n",
      "0          1   41   49600               1                   0       0.0\n",
      "2022       1   41   49600               0                   0       1.0\n",
      "1225       0   42   49600               0                   1       3.0\n",
      "4031       1   44   49600               2                   1       4.0\n",
      "815        1   37   49600               2                   0       5.0\n",
      "\n",
      "Escalado\n",
      " ======================================================================\n",
      "Euclidean\n",
      "\n",
      "      gender       age    salary  family_members  insurance_benefits  distance\n",
      "0        1.0  0.630769  0.627848        0.166667                 0.0  0.000000\n",
      "2689     1.0  0.630769  0.634177        0.166667                 0.0  0.006329\n",
      "133      1.0  0.615385  0.636709        0.166667                 0.0  0.017754\n",
      "4869     1.0  0.646154  0.637975        0.166667                 1.0  0.018418\n",
      "3275     1.0  0.646154  0.651899        0.166667                 1.0  0.028550 \n",
      "\n",
      "Manhattan\n",
      "\n",
      "      gender       age    salary  family_members  insurance_benefits  distance\n",
      "0        1.0  0.630769  0.627848        0.166667                 0.0  0.000000\n",
      "2689     1.0  0.630769  0.634177        0.166667                 0.0  0.006329\n",
      "133      1.0  0.615385  0.636709        0.166667                 0.0  0.024245\n",
      "4869     1.0  0.646154  0.637975        0.166667                 1.0  0.025511\n",
      "2103     1.0  0.630769  0.596203        0.166667                 0.0  0.031646\n"
     ]
    }
   ],
   "source": [
    "print('Sin escalamiento\\n',70*'=')\n",
    "# Sin escalar, distancia euclideana\n",
    "print('Euclidean\\n')\n",
    "print(get_knn(df, 0, 5, 'euclidean'),'\\n')\n",
    "\n",
    "# Sin escalar, distancia Manhattan\n",
    "print('Manhattan\\n')\n",
    "print(get_knn(df, 0, 5, 'manhattan'))\n",
    "\n",
    "\n",
    "print('\\nEscalado\\n',70*'=')\n",
    "# Escalado, distancia euclideana\n",
    "print('Euclidean\\n')\n",
    "print(get_knn(df_scaled, 0, 5, 'euclidean'),'\\n')\n",
    "\n",
    "# Escalado, distancia Manhattan\n",
    "print('Manhattan\\n')\n",
    "print(get_knn(df_scaled, 0, 5, 'manhattan'))"
   ]
  },
  {
   "cell_type": "markdown",
   "metadata": {},
   "source": [
    "## 2. Predicción de Beneficios de Seguro"
   ]
  },
  {
   "cell_type": "code",
   "execution_count": 161,
   "metadata": {},
   "outputs": [
    {
     "data": {
      "text/plain": [
       "insurance_benefits_recieved\n",
       "False    4436\n",
       "True      564\n",
       "Name: count, dtype: int64"
      ]
     },
     "execution_count": 161,
     "metadata": {},
     "output_type": "execute_result"
    }
   ],
   "source": [
    "df['insurance_benefits_recieved'] = df['insurance_benefits'] > 0\n",
    "df['insurance_benefits_recieved'].value_counts()"
   ]
  },
  {
   "cell_type": "markdown",
   "metadata": {},
   "source": [
    "**Evaluación del clasificador**"
   ]
  },
  {
   "cell_type": "code",
   "execution_count": 162,
   "metadata": {},
   "outputs": [],
   "source": [
    "def eval_classifier(y_true, y_pred):\n",
    "    f1_score = sklearn.metrics.f1_score(y_true, y_pred)\n",
    "    print(f'F1: {f1_score:.2f}')\n",
    "\n",
    "    cm = sklearn.metrics.confusion_matrix(y_true, y_pred, normalize='all')\n",
    "    print('Matriz de confusión')\n",
    "    print(cm)"
   ]
  },
  {
   "cell_type": "markdown",
   "metadata": {},
   "source": [
    "Modelo Aleatorio"
   ]
  },
  {
   "cell_type": "code",
   "execution_count": 163,
   "metadata": {},
   "outputs": [
    {
     "name": "stdout",
     "output_type": "stream",
     "text": [
      "La probabilidad: 0.00\n",
      "F1: 0.00\n",
      "Matriz de confusión\n",
      "[[0.8872 0.    ]\n",
      " [0.1128 0.    ]]\n",
      "\n",
      "La probabilidad: 0.11\n",
      "F1: 0.12\n",
      "Matriz de confusión\n",
      "[[0.7914 0.0958]\n",
      " [0.0994 0.0134]]\n",
      "\n",
      "La probabilidad: 0.50\n",
      "F1: 0.20\n",
      "Matriz de confusión\n",
      "[[0.456  0.4312]\n",
      " [0.053  0.0598]]\n",
      "\n",
      "La probabilidad: 1.00\n",
      "F1: 0.20\n",
      "Matriz de confusión\n",
      "[[0.     0.8872]\n",
      " [0.     0.1128]]\n",
      "\n"
     ]
    }
   ],
   "source": [
    "def rnd_model_predict(P, size, seed=42):\n",
    "    rng = np.random.default_rng(seed=seed)\n",
    "    return rng.binomial(n=1, p=P, size=size)\n",
    "\n",
    "for P in [0, df['insurance_benefits_recieved'].sum()/len(df), 0.5, 1]:\n",
    "    print(f'La probabilidad: {P:.2f}')\n",
    "    \n",
    "    y_pred_rnd = rnd_model_predict(P, len(df))\n",
    "\n",
    "    eval_classifier(df['insurance_benefits_recieved'], y_pred_rnd)\n",
    "    print()"
   ]
  },
  {
   "cell_type": "markdown",
   "metadata": {},
   "source": [
    "Modelo kNN"
   ]
  },
  {
   "cell_type": "code",
   "execution_count": 164,
   "metadata": {},
   "outputs": [],
   "source": [
    "X = df[feature_names]\n",
    "y = df['insurance_benefits_recieved']\n",
    "\n",
    "X_train, X_test, y_train, y_test = train_test_split(X, y, test_size = 0.3, random_state = 12345)"
   ]
  },
  {
   "cell_type": "code",
   "execution_count": 165,
   "metadata": {},
   "outputs": [
    {
     "name": "stdout",
     "output_type": "stream",
     "text": [
      "[0.60431654676259, 0.4056603773584906, 0.4052863436123348, 0.27835051546391754, 0.271356783919598, 0.11428571428571428, 0.11299435028248588, 0.07100591715976332, 0.08235294117647059, 0.0]\n"
     ]
    }
   ],
   "source": [
    "f1_scores = []\n",
    "for k in range(1,11):\n",
    "    knn = sklearn.neighbors.KNeighborsClassifier(n_neighbors=k).fit(X_train, y_train)\n",
    "    y_pred = knn.predict(X_test)\n",
    "    f1_scores.append(sklearn.metrics.f1_score(y_test,y_pred))\n",
    "\n",
    "print(f1_scores) "
   ]
  },
  {
   "cell_type": "markdown",
   "metadata": {},
   "source": [
    "## 3. Regresión lineal"
   ]
  },
  {
   "cell_type": "code",
   "execution_count": 166,
   "metadata": {},
   "outputs": [],
   "source": [
    "class MyLinearRegression: \n",
    "\n",
    "    def __init__(self):\n",
    "        self.weights = None\n",
    "\n",
    "    def fit(self, X, y):\n",
    "\n",
    "        # Añadir las unidades \n",
    "        X2 = np.append(np.ones([len(X),1]), X, axis=1)\n",
    "        self.weights  = np.linalg.inv(X2.T @ X2) @ X2.T @ y\n",
    "\n",
    "    def predict(self, X): \n",
    "        \n",
    "        # Añadir las unidades\n",
    "        X2 = np.append(np.ones([len(X),1]), X, axis=1)\n",
    "        y_pred = X2 @ self.weights\n",
    "        \n",
    "        return y_pred"
   ]
  },
  {
   "cell_type": "code",
   "execution_count": 167,
   "metadata": {},
   "outputs": [],
   "source": [
    "def eval_regressor(y_true, y_pred): \n",
    "    rmse = np.sqrt(sklearn.metrics.mean_squared_error(y_true, y_pred))\n",
    "    print(f'RMSE: {rmse:.2f}')\n",
    "\n",
    "    r2 = sklearn.metrics.r2_score(y_true, y_pred) \n",
    "    print(f'R2: {r2:.2f}')"
   ]
  },
  {
   "cell_type": "code",
   "execution_count": 168,
   "metadata": {},
   "outputs": [
    {
     "name": "stdout",
     "output_type": "stream",
     "text": [
      "[-0.94353893  0.01642727  0.03574955 -0.00000026 -0.01169021]\n",
      "RMSE: 0.34\n",
      "R2: 0.43\n"
     ]
    }
   ],
   "source": [
    "X = df[feature_names].values\n",
    "y = df['insurance_benefits'].values\n",
    "\n",
    "X_train, X_test, y_train, y_test = train_test_split(X, y, test_size = 0.3, random_state = 12345) \n",
    "\n",
    "lr = MyLinearRegression()\n",
    "lr.fit(X_train, y_train)\n",
    "print(lr.weights)\n",
    "\n",
    "y_test_pred = lr.predict(X_test)\n",
    "eval_regressor(y_test, y_test_pred) "
   ]
  },
  {
   "cell_type": "markdown",
   "metadata": {},
   "source": [
    "## 4. Ofuscación de datos"
   ]
  },
  {
   "cell_type": "markdown",
   "metadata": {},
   "source": [
    "Generación de matriz de ofuscación"
   ]
  },
  {
   "cell_type": "code",
   "execution_count": 169,
   "metadata": {},
   "outputs": [],
   "source": [
    "personal_info_column_list = ['gender', 'age', 'salary', 'family_members']\n",
    "df_pn = df[personal_info_column_list]\n",
    "\n",
    "X = df_pn.values\n",
    "\n",
    "rng = np.random.default_rng(seed=42)\n",
    "P = rng.random(size=(X.shape[1],X.shape[1]))"
   ]
  },
  {
   "cell_type": "code",
   "execution_count": 170,
   "metadata": {},
   "outputs": [
    {
     "data": {
      "text/plain": [
       "array([[ 0.41467992, -1.43783972,  0.62798546,  1.14001268],\n",
       "       [-1.06101789,  0.44219337,  0.1329549 ,  1.18425933],\n",
       "       [ 1.42362442,  1.60461607, -2.0553823 , -1.53699695],\n",
       "       [-0.11128575, -0.65813802,  1.74995517, -0.11816316]])"
      ]
     },
     "execution_count": 170,
     "metadata": {},
     "output_type": "execute_result"
    }
   ],
   "source": [
    "np.linalg.inv(P)"
   ]
  },
  {
   "cell_type": "markdown",
   "metadata": {},
   "source": [
    "Ofuscacion de datos "
   ]
  },
  {
   "cell_type": "code",
   "execution_count": 171,
   "metadata": {},
   "outputs": [
    {
     "name": "stdout",
     "output_type": "stream",
     "text": [
      "Original:\n",
      " [[    1    41 49600     1]\n",
      " [    0    46 38000     1]\n",
      " [    0    29 21000     0]\n",
      " [    0    21 41700     2]\n",
      " [    1    28 26100     0]]\n",
      "Obfuscated:\n",
      " [[ 6359.72 22380.4  18424.09 46000.7 ]\n",
      " [ 4873.29 17160.37 14125.78 35253.46]\n",
      " [ 2693.12  9486.4   7808.83 19484.86]\n",
      " [ 5345.6  18803.23 15479.15 38663.06]\n",
      " [ 3347.18 11782.83  9700.   24211.27]]\n",
      "Recovered:\n",
      " [[    1.    41. 49600.     1.]\n",
      " [   -0.    46. 38000.     1.]\n",
      " [    0.    29. 21000.     0.]\n",
      " [   -0.    21. 41700.     2.]\n",
      " [    1.    28. 26100.     0.]]\n"
     ]
    }
   ],
   "source": [
    "X_obfuscated = X @ P\n",
    "X_recovered = X_obfuscated @ np.linalg.inv(P) \n",
    "\n",
    "print('Original:\\n', X[:5])\n",
    "print('Obfuscated:\\n', X_obfuscated[:5].round(2))\n",
    "\n",
    "# Mostrar los resultados sin notación científica\n",
    "np.set_printoptions(suppress=True)\n",
    "\n",
    "print('Recovered:\\n', X_recovered[:5])"
   ]
  },
  {
   "cell_type": "markdown",
   "metadata": {},
   "source": [
    "Prueba de Regresión con Datos Ofuscados"
   ]
  },
  {
   "cell_type": "code",
   "execution_count": 172,
   "metadata": {},
   "outputs": [
    {
     "name": "stdout",
     "output_type": "stream",
     "text": [
      "RMSE: 0.34\n",
      "R2: 0.43\n"
     ]
    }
   ],
   "source": [
    "X_train_obfuscated = X_train @ P \n",
    "X_test_obfuscated = X_test @ P \n",
    "\n",
    "lr_obfuscated = MyLinearRegression()\n",
    "lr_obfuscated.fit(X_train_obfuscated, y_train)\n",
    "y_test_pred_obfuscated = lr_obfuscated.predict(X_test_obfuscated) \n",
    "\n",
    "eval_regressor(y_test, y_test_pred_obfuscated) "
   ]
  },
  {
   "cell_type": "markdown",
   "metadata": {},
   "source": [
    "# Conlcusiones\n",
    "\n",
    "## 1. Clientes Similares \n",
    "1. Efecto del Escalado kNN \n",
    "    - El escalado de datos afecta significativamente al algoritmo kNN. Cuando los datos no estan escalados, variables con magnitudes mayroes dominan el cálculo de la distancia, esto puede llevar a resultados sesgados. \n",
    "\n",
    "2. Comparación entre Métricas de Distancia: \n",
    "    - La distancia manhattan tiende a ser mas robusta ante valores atipicos en comparacion a la distancia euclidiana. Esto se debe a que la manhattan no eleva al cuadrado las diferencias, lo que reduce la influencia de valores extremos. \n",
    "    - Los resultados entre ambas metricas son similares, sin embargo no identicas. La eleccion de la metrica depende del contexto y de la prescencia de valores atipicos en los datos. \n",
    "\n",
    "## 2. Predicción de Beneficio de Seguro \n",
    "1. Modelo Aleatorio (Dummy): \n",
    "    - El modelo aleatorio con una probablildad igual a la proporción de clientes que reciben beneficios (11%) obtiene un F1-score de 0.12, lo que indica un rendimiento pobre. \n",
    "\n",
    "2. Modelo kNN\n",
    "    - El modelo kNN supero al modelo dummy alcanzando un F1-score máximo de 0.60 para k = 1. Sin embargo, el rendimiento disminuye a medida que aumenta k, lo que sugiere que los vecinos mas cercanos son los más infromativos para este caso. \n",
    "\n",
    "3. Desequilibrio de Clases: \n",
    "    - El conjunto de datos esta desequilibrado, con solo el 11% de los clientes recibiendo beneficios. Esto afecta negativamente el rendimiento del modelo, ya que tiende a predecir la clase mayoritaria (No recibir beneficios) \n",
    "\n",
    "## 3. Regresión Lineal \n",
    "1. Implementación de Regresión Lineal:\n",
    "    - La implementación manual de la reegresión lineal utilizando operaciones matriciales funciona correctamente, con un RMSE de 0.34 y un $R^2$ de 0.43. Esto indica que el modelo explica el 43% de la varianza en los beneficios de seguro. \n",
    "\n",
    "## 4. Ofuscación de Datos\n",
    "1. Ofuscación\n",
    "    - La ofuscación de datos mediante una matriz invertible P, permite proteger la informacion personal sin afectar la utilidad de los datos para el modelo de regresión lineal. \n",
    "    - Los datos originales se recuperan con precisión utilizando la matriz inversa $P^-1$, lo que demuestra que la transforación es reversible. \n",
    "\n",
    "2. Impacto en el Modelo\n",
    "    - La regresión lineal con datos ofuscados produce resultados idénticos en terminos de RECM y $R^2$ en comparación con los datos originales. Esto confima que la ofuscación no afecta la calidad del modelo. "
   ]
  },
  {
   "cell_type": "markdown",
   "metadata": {},
   "source": []
  }
 ],
 "metadata": {
  "kernelspec": {
   "display_name": "base",
   "language": "python",
   "name": "python3"
  },
  "language_info": {
   "codemirror_mode": {
    "name": "ipython",
    "version": 3
   },
   "file_extension": ".py",
   "mimetype": "text/x-python",
   "name": "python",
   "nbconvert_exporter": "python",
   "pygments_lexer": "ipython3",
   "version": "3.12.7"
  }
 },
 "nbformat": 4,
 "nbformat_minor": 2
}
